{
  "nbformat": 4,
  "nbformat_minor": 0,
  "metadata": {
    "colab": {
      "provenance": []
    },
    "kernelspec": {
      "name": "python3",
      "display_name": "Python 3"
    },
    "language_info": {
      "name": "python"
    }
  },
  "cells": [
    {
      "cell_type": "markdown",
      "source": [
        "#**LLM Example - Read Email**\n",
        "\n",
        "\n",
        "\n"
      ],
      "metadata": {
        "id": "a1WghTozHAHe"
      }
    },
    {
      "cell_type": "code",
      "execution_count": 17,
      "metadata": {
        "colab": {
          "base_uri": "https://localhost:8080/"
        },
        "id": "Q41W4bQr0v9o",
        "outputId": "137538f5-d096-4e24-ba62-f1cb4307e875"
      },
      "outputs": [
        {
          "output_type": "stream",
          "name": "stdout",
          "text": [
            "Requirement already satisfied: langchain in /usr/local/lib/python3.10/dist-packages (0.1.8)\n",
            "Requirement already satisfied: langchain_openai in /usr/local/lib/python3.10/dist-packages (0.0.6)\n",
            "Requirement already satisfied: PyYAML>=5.3 in /usr/local/lib/python3.10/dist-packages (from langchain) (6.0.1)\n",
            "Requirement already satisfied: SQLAlchemy<3,>=1.4 in /usr/local/lib/python3.10/dist-packages (from langchain) (2.0.27)\n",
            "Requirement already satisfied: aiohttp<4.0.0,>=3.8.3 in /usr/local/lib/python3.10/dist-packages (from langchain) (3.9.3)\n",
            "Requirement already satisfied: async-timeout<5.0.0,>=4.0.0 in /usr/local/lib/python3.10/dist-packages (from langchain) (4.0.3)\n",
            "Requirement already satisfied: dataclasses-json<0.7,>=0.5.7 in /usr/local/lib/python3.10/dist-packages (from langchain) (0.6.4)\n",
            "Requirement already satisfied: jsonpatch<2.0,>=1.33 in /usr/local/lib/python3.10/dist-packages (from langchain) (1.33)\n",
            "Requirement already satisfied: langchain-community<0.1,>=0.0.21 in /usr/local/lib/python3.10/dist-packages (from langchain) (0.0.21)\n",
            "Requirement already satisfied: langchain-core<0.2,>=0.1.24 in /usr/local/lib/python3.10/dist-packages (from langchain) (0.1.24)\n",
            "Requirement already satisfied: langsmith<0.2.0,>=0.1.0 in /usr/local/lib/python3.10/dist-packages (from langchain) (0.1.2)\n",
            "Requirement already satisfied: numpy<2,>=1 in /usr/local/lib/python3.10/dist-packages (from langchain) (1.25.2)\n",
            "Requirement already satisfied: pydantic<3,>=1 in /usr/local/lib/python3.10/dist-packages (from langchain) (2.6.1)\n",
            "Requirement already satisfied: requests<3,>=2 in /usr/local/lib/python3.10/dist-packages (from langchain) (2.31.0)\n",
            "Requirement already satisfied: tenacity<9.0.0,>=8.1.0 in /usr/local/lib/python3.10/dist-packages (from langchain) (8.2.3)\n",
            "Requirement already satisfied: openai<2.0.0,>=1.10.0 in /usr/local/lib/python3.10/dist-packages (from langchain_openai) (1.12.0)\n",
            "Requirement already satisfied: tiktoken<1,>=0.5.2 in /usr/local/lib/python3.10/dist-packages (from langchain_openai) (0.6.0)\n",
            "Requirement already satisfied: aiosignal>=1.1.2 in /usr/local/lib/python3.10/dist-packages (from aiohttp<4.0.0,>=3.8.3->langchain) (1.3.1)\n",
            "Requirement already satisfied: attrs>=17.3.0 in /usr/local/lib/python3.10/dist-packages (from aiohttp<4.0.0,>=3.8.3->langchain) (23.2.0)\n",
            "Requirement already satisfied: frozenlist>=1.1.1 in /usr/local/lib/python3.10/dist-packages (from aiohttp<4.0.0,>=3.8.3->langchain) (1.4.1)\n",
            "Requirement already satisfied: multidict<7.0,>=4.5 in /usr/local/lib/python3.10/dist-packages (from aiohttp<4.0.0,>=3.8.3->langchain) (6.0.5)\n",
            "Requirement already satisfied: yarl<2.0,>=1.0 in /usr/local/lib/python3.10/dist-packages (from aiohttp<4.0.0,>=3.8.3->langchain) (1.9.4)\n",
            "Requirement already satisfied: marshmallow<4.0.0,>=3.18.0 in /usr/local/lib/python3.10/dist-packages (from dataclasses-json<0.7,>=0.5.7->langchain) (3.20.2)\n",
            "Requirement already satisfied: typing-inspect<1,>=0.4.0 in /usr/local/lib/python3.10/dist-packages (from dataclasses-json<0.7,>=0.5.7->langchain) (0.9.0)\n",
            "Requirement already satisfied: jsonpointer>=1.9 in /usr/local/lib/python3.10/dist-packages (from jsonpatch<2.0,>=1.33->langchain) (2.4)\n",
            "Requirement already satisfied: anyio<5,>=3 in /usr/local/lib/python3.10/dist-packages (from langchain-core<0.2,>=0.1.24->langchain) (3.7.1)\n",
            "Requirement already satisfied: packaging<24.0,>=23.2 in /usr/local/lib/python3.10/dist-packages (from langchain-core<0.2,>=0.1.24->langchain) (23.2)\n",
            "Requirement already satisfied: distro<2,>=1.7.0 in /usr/lib/python3/dist-packages (from openai<2.0.0,>=1.10.0->langchain_openai) (1.7.0)\n",
            "Requirement already satisfied: httpx<1,>=0.23.0 in /usr/local/lib/python3.10/dist-packages (from openai<2.0.0,>=1.10.0->langchain_openai) (0.26.0)\n",
            "Requirement already satisfied: sniffio in /usr/local/lib/python3.10/dist-packages (from openai<2.0.0,>=1.10.0->langchain_openai) (1.3.0)\n",
            "Requirement already satisfied: tqdm>4 in /usr/local/lib/python3.10/dist-packages (from openai<2.0.0,>=1.10.0->langchain_openai) (4.66.2)\n",
            "Requirement already satisfied: typing-extensions<5,>=4.7 in /usr/local/lib/python3.10/dist-packages (from openai<2.0.0,>=1.10.0->langchain_openai) (4.9.0)\n",
            "Requirement already satisfied: annotated-types>=0.4.0 in /usr/local/lib/python3.10/dist-packages (from pydantic<3,>=1->langchain) (0.6.0)\n",
            "Requirement already satisfied: pydantic-core==2.16.2 in /usr/local/lib/python3.10/dist-packages (from pydantic<3,>=1->langchain) (2.16.2)\n",
            "Requirement already satisfied: charset-normalizer<4,>=2 in /usr/local/lib/python3.10/dist-packages (from requests<3,>=2->langchain) (3.3.2)\n",
            "Requirement already satisfied: idna<4,>=2.5 in /usr/local/lib/python3.10/dist-packages (from requests<3,>=2->langchain) (3.6)\n",
            "Requirement already satisfied: urllib3<3,>=1.21.1 in /usr/local/lib/python3.10/dist-packages (from requests<3,>=2->langchain) (2.0.7)\n",
            "Requirement already satisfied: certifi>=2017.4.17 in /usr/local/lib/python3.10/dist-packages (from requests<3,>=2->langchain) (2024.2.2)\n",
            "Requirement already satisfied: greenlet!=0.4.17 in /usr/local/lib/python3.10/dist-packages (from SQLAlchemy<3,>=1.4->langchain) (3.0.3)\n",
            "Requirement already satisfied: regex>=2022.1.18 in /usr/local/lib/python3.10/dist-packages (from tiktoken<1,>=0.5.2->langchain_openai) (2023.12.25)\n",
            "Requirement already satisfied: exceptiongroup in /usr/local/lib/python3.10/dist-packages (from anyio<5,>=3->langchain-core<0.2,>=0.1.24->langchain) (1.2.0)\n",
            "Requirement already satisfied: httpcore==1.* in /usr/local/lib/python3.10/dist-packages (from httpx<1,>=0.23.0->openai<2.0.0,>=1.10.0->langchain_openai) (1.0.3)\n",
            "Requirement already satisfied: h11<0.15,>=0.13 in /usr/local/lib/python3.10/dist-packages (from httpcore==1.*->httpx<1,>=0.23.0->openai<2.0.0,>=1.10.0->langchain_openai) (0.14.0)\n",
            "Requirement already satisfied: mypy-extensions>=0.3.0 in /usr/local/lib/python3.10/dist-packages (from typing-inspect<1,>=0.4.0->dataclasses-json<0.7,>=0.5.7->langchain) (1.0.0)\n"
          ]
        }
      ],
      "source": [
        "!pip install langchain langchain_openai"
      ]
    },
    {
      "cell_type": "code",
      "source": [
        "from langchain.prompts.chat import (\n",
        "    ChatPromptTemplate,\n",
        "    HumanMessagePromptTemplate,\n",
        "    SystemMessagePromptTemplate,\n",
        ")\n",
        "from langchain.schema import HumanMessage, SystemMessage\n",
        "from langchain_openai import ChatOpenAI"
      ],
      "metadata": {
        "id": "5SdSnoxw-6YG"
      },
      "execution_count": 18,
      "outputs": []
    },
    {
      "cell_type": "code",
      "source": [
        "chat = ChatOpenAI(temperature=0, openai_api_key=\"<<key>>\")"
      ],
      "metadata": {
        "id": "8klAxoq_--Ve"
      },
      "execution_count": 19,
      "outputs": []
    },
    {
      "cell_type": "code",
      "source": [
        "def info_from_email_text(prompt_eng_text, email_text):\n",
        "\n",
        "  messages = [SystemMessage(content=f\"{prompt_eng_text}\"), HumanMessage(content=f\"{email_text}\")]\n",
        "\n",
        "  return chat(messages).content"
      ],
      "metadata": {
        "id": "9ZctOuoE_Cml"
      },
      "execution_count": 20,
      "outputs": []
    },
    {
      "cell_type": "code",
      "source": [
        "prompt_eng_text = \"\"\"\n",
        "Sua atividade é ler um texto e extrair as seguntes informações bancárias: Conta Bancária, Agência, Nome do Banco, CPF e nome do cliente.\n",
        "\n",
        "Após extrair a informação você deve retornar uma mensagem com o seguinte formato .edn:\n",
        "\n",
        "{:Banco   Nome do banco\n",
        " :Conta   Conta Bancária\n",
        " :Agência   Agência\n",
        " :Nome   nome do cliente\n",
        " :CPF   CPF}\n",
        "\"\"\""
      ],
      "metadata": {
        "id": "egLpyC4eFSyH"
      },
      "execution_count": 69,
      "outputs": []
    },
    {
      "cell_type": "markdown",
      "source": [
        "##**Test 1**"
      ],
      "metadata": {
        "id": "qJ63-bXgH57e"
      }
    },
    {
      "cell_type": "code",
      "source": [
        "email_text = \"\"\"\n",
        "Bom dia!\n",
        "Meu nome é Chico Bento, segue os dados bancários.\n",
        "\n",
        "Nome: Chico Bento\n",
        "CPF: 12345678909\n",
        "Banco: Itaú\n",
        "Agência: 9444\n",
        "Conta: 98999-9\n",
        "\"\"\"\n",
        "\n",
        "print(info_from_email_text(prompt_eng_text, email_text))"
      ],
      "metadata": {
        "colab": {
          "base_uri": "https://localhost:8080/"
        },
        "id": "BbhzdbKqFu97",
        "outputId": "7554f54c-5fff-4f19-bcb3-6b49e76bf9c9"
      },
      "execution_count": 76,
      "outputs": [
        {
          "output_type": "stream",
          "name": "stdout",
          "text": [
            "{:Banco \"Itaú\"\n",
            " :Conta \"98999-9\"\n",
            " :Agência \"9444\"\n",
            " :Nome \"Chico Bento\"\n",
            " :CPF \"12345678909\"}\n"
          ]
        }
      ]
    },
    {
      "cell_type": "markdown",
      "source": [
        "##**Test 2**"
      ],
      "metadata": {
        "id": "1Ixi359QSOlx"
      }
    },
    {
      "cell_type": "code",
      "source": [
        "email_text = \"\"\"\n",
        "Bom dia!\n",
        "Segue os dados bancários.\n",
        "\n",
        "Nome: Magali Smith\n",
        "CPF: 12345678909\n",
        "Banco: Itaú\n",
        "Agência: 9444\n",
        "Conta: 98999-9\n",
        "\"\"\"\n",
        "\n",
        "print(info_from_email_text(prompt_eng_text, email_text))"
      ],
      "metadata": {
        "colab": {
          "base_uri": "https://localhost:8080/"
        },
        "id": "IOKSQob1SKQI",
        "outputId": "eeb15752-7cc8-43fa-b746-3d22bc841f5a"
      },
      "execution_count": 75,
      "outputs": [
        {
          "output_type": "stream",
          "name": "stdout",
          "text": [
            "{:Banco \"Itaú\"\n",
            " :Conta \"98999-9\"\n",
            " :Agência \"9444\"\n",
            " :Nome \"Magali Smith\"\n",
            " :CPF \"12345678909\"}\n"
          ]
        }
      ]
    },
    {
      "cell_type": "markdown",
      "source": [
        "##**Test 3**\n",
        "###A semântica sempre é a prioridade em LLM (GPT). Repare, qual dos dois nomes ele irá retornar, Noah Smith ou Noah Clark?"
      ],
      "metadata": {
        "id": "I2EBPgTrSQE_"
      }
    },
    {
      "cell_type": "code",
      "source": [
        "email_text = \"\"\"\n",
        "Bom dia!\n",
        "Meu nome é Noah Smith, segue os dados bancários.\n",
        "\n",
        "Nome: Noah Clark\n",
        "CPF: 12345678909\n",
        "Banco: Itaú\n",
        "Agência: 9444\n",
        "Conta: 98999-9\n",
        "\"\"\"\n",
        "\n",
        "print(info_from_email_text(prompt_eng_text, email_text))"
      ],
      "metadata": {
        "colab": {
          "base_uri": "https://localhost:8080/"
        },
        "id": "8rNJBUqZSSCv",
        "outputId": "70090b20-500b-49e0-f2e1-8cdaa59363cc"
      },
      "execution_count": 74,
      "outputs": [
        {
          "output_type": "stream",
          "name": "stdout",
          "text": [
            "{:Banco \"Itaú\"\n",
            " :Conta \"98999-9\"\n",
            " :Agência \"9444\"\n",
            " :Nome \"Noah Smith\"\n",
            " :CPF \"12345678909\"}\n"
          ]
        }
      ]
    },
    {
      "cell_type": "markdown",
      "source": [
        "##**Test 4**\n",
        "###Com texto corrido"
      ],
      "metadata": {
        "id": "eaZVa3o8S_s1"
      }
    },
    {
      "cell_type": "code",
      "source": [
        "email_text = \"\"\"\n",
        "Bom dia, meu nome é Cebolinha Soares e meu CPF é 123.456.789-09\n",
        "\n",
        "Meu banco é o Banco do Brasil, a minha conta é 98.999-9 e agência 9444-9.\n",
        "\"\"\"\n",
        "\n",
        "print(info_from_email_text(prompt_eng_text, email_text))"
      ],
      "metadata": {
        "colab": {
          "base_uri": "https://localhost:8080/"
        },
        "id": "m_hJdatUTARo",
        "outputId": "65541e50-80e1-4963-ab7d-593030ac50c6"
      },
      "execution_count": 73,
      "outputs": [
        {
          "output_type": "stream",
          "name": "stdout",
          "text": [
            "{:Banco \"Banco do Brasil\"\n",
            " :Conta \"98.999-9\"\n",
            " :Agência \"9444-9\"\n",
            " :Nome \"Cebolinha Soares\"\n",
            " :CPF \"123.456.789-09\"}\n"
          ]
        }
      ]
    },
    {
      "cell_type": "markdown",
      "source": [
        "##**Test 5**\n",
        "###Texto com dados nulos"
      ],
      "metadata": {
        "id": "pzvpztu9TAqz"
      }
    },
    {
      "cell_type": "code",
      "source": [
        "email_text = \"\"\"\n",
        "Bom dia!\n",
        "Meu nome é Cascão Marinho da Silva, segue os dados bancários.\n",
        "\n",
        "Banco: Caixa\n",
        "Conta: 98999-9\n",
        "\"\"\"\n",
        "\n",
        "print(info_from_email_text(prompt_eng_text, email_text))"
      ],
      "metadata": {
        "colab": {
          "base_uri": "https://localhost:8080/"
        },
        "id": "O5pSrAPGTEuQ",
        "outputId": "78e1d408-b738-4604-80fb-24f82af0cbec"
      },
      "execution_count": 72,
      "outputs": [
        {
          "output_type": "stream",
          "name": "stdout",
          "text": [
            "{:Banco \"Caixa\"\n",
            " :Conta \"98999-9\"\n",
            " :Agência \"\"\n",
            " :Nome \"Cascão Marinho da Silva\"\n",
            " :CPF \"\"}\n"
          ]
        }
      ]
    },
    {
      "cell_type": "markdown",
      "source": [
        "##**Test 6**\n",
        "###Texto corrido com dados nulos"
      ],
      "metadata": {
        "id": "aadNrHbtXfkX"
      }
    },
    {
      "cell_type": "code",
      "source": [
        "email_text = \"\"\"\n",
        "Bom dia, meu nome é Cascão Marinho da Silva e meu CPF é 123.456.789-09\n",
        "\n",
        "Meu banco é o Banco do Brasil e a minha conta é 98.999-9.\n",
        "\"\"\"\n",
        "\n",
        "print(info_from_email_text(prompt_eng_text, email_text))"
      ],
      "metadata": {
        "colab": {
          "base_uri": "https://localhost:8080/"
        },
        "id": "9Kv1baVLXn_I",
        "outputId": "5897fbb2-326c-4dd6-955b-602f77975acf"
      },
      "execution_count": 71,
      "outputs": [
        {
          "output_type": "stream",
          "name": "stdout",
          "text": [
            "{:Banco \"Banco do Brasil\"\n",
            " :Conta \"98.999-9\"\n",
            " :Agência \"\"\n",
            " :Nome \"Cascão Marinho da Silva\"\n",
            " :CPF \"123.456.789-09\"}\n"
          ]
        }
      ]
    }
  ]
}